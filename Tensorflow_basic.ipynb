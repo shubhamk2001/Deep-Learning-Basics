{
  "nbformat": 4,
  "nbformat_minor": 0,
  "metadata": {
    "colab": {
      "provenance": [],
      "authorship_tag": "ABX9TyNd1HDouGJSorb+lJlU+MdV",
      "include_colab_link": true
    },
    "kernelspec": {
      "name": "python3",
      "display_name": "Python 3"
    },
    "language_info": {
      "name": "python"
    }
  },
  "cells": [
    {
      "cell_type": "markdown",
      "metadata": {
        "id": "view-in-github",
        "colab_type": "text"
      },
      "source": [
        "<a href=\"https://colab.research.google.com/github/shubhamk2001/Deep-Learning-Basics/blob/main/Tensorflow_basic.ipynb\" target=\"_parent\"><img src=\"https://colab.research.google.com/assets/colab-badge.svg\" alt=\"Open In Colab\"/></a>"
      ]
    },
    {
      "cell_type": "code",
      "execution_count": null,
      "metadata": {
        "id": "Jl8d5fjItb5d"
      },
      "outputs": [],
      "source": [
        "import tensorflow as tf"
      ]
    },
    {
      "cell_type": "code",
      "source": [
        "print(tf.__version__)"
      ],
      "metadata": {
        "colab": {
          "base_uri": "https://localhost:8080/"
        },
        "id": "9tULlnwmturM",
        "outputId": "f0860375-f53c-4449-ed32-6be4b89810d2"
      },
      "execution_count": null,
      "outputs": [
        {
          "output_type": "stream",
          "name": "stdout",
          "text": [
            "2.17.0\n"
          ]
        }
      ]
    },
    {
      "cell_type": "code",
      "source": [
        "hello = tf.constant('Hello')"
      ],
      "metadata": {
        "id": "OprzmttJuMCL"
      },
      "execution_count": null,
      "outputs": []
    },
    {
      "cell_type": "code",
      "source": [
        "type(hello)"
      ],
      "metadata": {
        "colab": {
          "base_uri": "https://localhost:8080/"
        },
        "id": "VXZ47MXrufAQ",
        "outputId": "1f5e190f-32da-486f-af36-c16a8b4de41e"
      },
      "execution_count": null,
      "outputs": [
        {
          "output_type": "execute_result",
          "data": {
            "text/plain": [
              "tensorflow.python.framework.ops.EagerTensor"
            ]
          },
          "metadata": {},
          "execution_count": 5
        }
      ]
    },
    {
      "cell_type": "code",
      "source": [
        "tf.print(hello)"
      ],
      "metadata": {
        "colab": {
          "base_uri": "https://localhost:8080/"
        },
        "id": "kEH-xNrmuibT",
        "outputId": "fa52b177-8b9e-4ca6-9607-b6d80f27f058"
      },
      "execution_count": null,
      "outputs": [
        {
          "output_type": "stream",
          "name": "stdout",
          "text": [
            "Hello\n"
          ]
        }
      ]
    },
    {
      "cell_type": "code",
      "source": [
        "world = tf.constant(\"World\")"
      ],
      "metadata": {
        "id": "tQvk2vFWunt8"
      },
      "execution_count": null,
      "outputs": []
    },
    {
      "cell_type": "code",
      "source": [
        "tf.print(world)"
      ],
      "metadata": {
        "colab": {
          "base_uri": "https://localhost:8080/"
        },
        "id": "SU4OJUl8uxvq",
        "outputId": "b2b90177-f25c-45d5-e079-94ab23e27d46"
      },
      "execution_count": null,
      "outputs": [
        {
          "output_type": "stream",
          "name": "stdout",
          "text": [
            "World\n"
          ]
        }
      ]
    },
    {
      "cell_type": "code",
      "source": [
        "result = hello + world\n",
        "tf.print(result)"
      ],
      "metadata": {
        "colab": {
          "base_uri": "https://localhost:8080/"
        },
        "id": "3qhuzLp7u0TU",
        "outputId": "cebee30b-22c6-41f9-9cc1-7cb9aa209039"
      },
      "execution_count": null,
      "outputs": [
        {
          "output_type": "stream",
          "name": "stdout",
          "text": [
            "HelloWorld\n"
          ]
        }
      ]
    },
    {
      "cell_type": "code",
      "source": [
        "a = tf.constant(10)\n",
        "b= tf.constant(20)\n",
        "a+b"
      ],
      "metadata": {
        "colab": {
          "base_uri": "https://localhost:8080/"
        },
        "id": "ua_SMggXvLuy",
        "outputId": "1056c468-b91b-408d-a32d-e1c2326e1764"
      },
      "execution_count": null,
      "outputs": [
        {
          "output_type": "execute_result",
          "data": {
            "text/plain": [
              "<tf.Tensor: shape=(), dtype=int32, numpy=30>"
            ]
          },
          "metadata": {},
          "execution_count": 10
        }
      ]
    },
    {
      "cell_type": "code",
      "source": [
        "tf.print(a+b)"
      ],
      "metadata": {
        "colab": {
          "base_uri": "https://localhost:8080/"
        },
        "id": "Fco7bVx6vdxd",
        "outputId": "53a36277-172e-4bd7-d246-8d99ab99a65f"
      },
      "execution_count": null,
      "outputs": [
        {
          "output_type": "stream",
          "name": "stdout",
          "text": [
            "30\n"
          ]
        }
      ]
    },
    {
      "cell_type": "code",
      "source": [
        "myarr = tf.fill((5,5),10)\n",
        "tf.print(myarr)"
      ],
      "metadata": {
        "colab": {
          "base_uri": "https://localhost:8080/"
        },
        "id": "_y3GzbFyvpbJ",
        "outputId": "9a501349-fa1b-4358-8ff9-62fe48c38421"
      },
      "execution_count": null,
      "outputs": [
        {
          "output_type": "stream",
          "name": "stdout",
          "text": [
            "[[10 10 10 10 10]\n",
            " [10 10 10 10 10]\n",
            " [10 10 10 10 10]\n",
            " [10 10 10 10 10]\n",
            " [10 10 10 10 10]]\n"
          ]
        }
      ]
    },
    {
      "cell_type": "code",
      "source": [
        "a = tf.constant([[4,5],[6,7]])"
      ],
      "metadata": {
        "id": "JrZeuOhnv1Vt"
      },
      "execution_count": null,
      "outputs": []
    },
    {
      "cell_type": "code",
      "source": [
        "a.get_shape()"
      ],
      "metadata": {
        "colab": {
          "base_uri": "https://localhost:8080/"
        },
        "id": "L9AF_aKnxWEX",
        "outputId": "3c507918-d0d2-4845-a9d3-458a266b6443"
      },
      "execution_count": null,
      "outputs": [
        {
          "output_type": "execute_result",
          "data": {
            "text/plain": [
              "TensorShape([2, 2])"
            ]
          },
          "metadata": {},
          "execution_count": 14
        }
      ]
    },
    {
      "cell_type": "code",
      "source": [
        "b = tf.constant([[8],[9]])"
      ],
      "metadata": {
        "id": "NpZggi7jxZKR"
      },
      "execution_count": null,
      "outputs": []
    },
    {
      "cell_type": "code",
      "source": [
        "b.get_shape()"
      ],
      "metadata": {
        "colab": {
          "base_uri": "https://localhost:8080/"
        },
        "id": "9xuRGrU-xhnO",
        "outputId": "4d3bf71f-9e51-46d6-e9e9-8134d4ad69ee"
      },
      "execution_count": null,
      "outputs": [
        {
          "output_type": "execute_result",
          "data": {
            "text/plain": [
              "TensorShape([2, 1])"
            ]
          },
          "metadata": {},
          "execution_count": 16
        }
      ]
    },
    {
      "cell_type": "code",
      "source": [
        "# creating a random numbers using tensors\n",
        "mytensor = tf.random.normal((4,4),0,1)"
      ],
      "metadata": {
        "id": "wV31pNLZxlJp"
      },
      "execution_count": null,
      "outputs": []
    },
    {
      "cell_type": "code",
      "source": [
        "tf.print(mytensor)"
      ],
      "metadata": {
        "colab": {
          "base_uri": "https://localhost:8080/"
        },
        "id": "_2xWfhkIy4Ol",
        "outputId": "1725aa17-9005-46b5-8ac8-771d77457016"
      },
      "execution_count": null,
      "outputs": [
        {
          "output_type": "stream",
          "name": "stdout",
          "text": [
            "[[0.97449261 0.742087662 1.69071186 -0.797817826]\n",
            " [0.760759294 -0.141116485 -1.0210216 0.545667887]\n",
            " [0.184215158 -1.68856263 -1.08437228 -0.626254797]\n",
            " [1.94173121 -1.64939 0.184510142 -1.73356235]]\n"
          ]
        }
      ]
    },
    {
      "cell_type": "code",
      "source": [
        "# Executing eagerly means executing the code line by line as in previous versions it's done through sessions.\n",
        "if(tf.executing_eagerly()):\n",
        "    print(\"True\")\n",
        "else:\n",
        "    print(\"False\")"
      ],
      "metadata": {
        "colab": {
          "base_uri": "https://localhost:8080/"
        },
        "id": "cLVTSz6fzBZa",
        "outputId": "6afb0967-6fa1-4f05-a00a-7265bc913228"
      },
      "execution_count": null,
      "outputs": [
        {
          "output_type": "stream",
          "name": "stdout",
          "text": [
            "True\n"
          ]
        }
      ]
    },
    {
      "cell_type": "markdown",
      "source": [
        "# Simple Operations"
      ],
      "metadata": {
        "id": "v9zqgry2zf5I"
      }
    },
    {
      "cell_type": "code",
      "source": [
        "# making a constant tensor A, that does not change\n",
        "A = tf.constant([[1,2],\n",
        "                [3,4],[9,8]])"
      ],
      "metadata": {
        "id": "GGTjbbzs0btv"
      },
      "execution_count": null,
      "outputs": []
    },
    {
      "cell_type": "code",
      "source": [
        "tf.print(A)\n",
        "A.numpy() # if you want to use it as a numpy array"
      ],
      "metadata": {
        "colab": {
          "base_uri": "https://localhost:8080/"
        },
        "id": "RHy8LVpk-wkw",
        "outputId": "31943255-add2-416a-a977-17fd0334cce7"
      },
      "execution_count": null,
      "outputs": [
        {
          "output_type": "stream",
          "name": "stdout",
          "text": [
            "[[1 2]\n",
            " [3 4]\n",
            " [9 8]]\n"
          ]
        },
        {
          "output_type": "execute_result",
          "data": {
            "text/plain": [
              "array([[1, 2],\n",
              "       [3, 4],\n",
              "       [9, 8]], dtype=int32)"
            ]
          },
          "metadata": {},
          "execution_count": 21
        }
      ]
    },
    {
      "cell_type": "code",
      "source": [
        "# making a variable tensor\n",
        "VA = tf.Variable([[1,7],\n",
        "                [3,9],[4,5]])\n",
        "# making a another tensor B\n",
        "B = tf.constant([[4,5],\n",
        "                [6,7],[3,3]])"
      ],
      "metadata": {
        "id": "razsxrii-0mn"
      },
      "execution_count": null,
      "outputs": []
    },
    {
      "cell_type": "code",
      "source": [
        "tf.print(B)"
      ],
      "metadata": {
        "colab": {
          "base_uri": "https://localhost:8080/"
        },
        "id": "ODFZPaFZ_hNl",
        "outputId": "9ad2013c-aeec-4b61-a4c8-acc76123b962"
      },
      "execution_count": null,
      "outputs": [
        {
          "output_type": "stream",
          "name": "stdout",
          "text": [
            "[[4 5]\n",
            " [6 7]\n",
            " [3 3]]\n"
          ]
        }
      ]
    },
    {
      "cell_type": "markdown",
      "source": [
        "# Concatenation by tf.concat"
      ],
      "metadata": {
        "id": "wCe3cemc_4Ny"
      }
    },
    {
      "cell_type": "code",
      "source": [
        "# concatenate columns\n",
        "AB_concat = tf.concat(values=[A,B],axis=1)\n",
        "tf.print(AB_concat)"
      ],
      "metadata": {
        "colab": {
          "base_uri": "https://localhost:8080/"
        },
        "id": "SqtH7p1dABwF",
        "outputId": "6ce373c4-0cca-4ffa-ca26-0ecc3ef16a21"
      },
      "execution_count": null,
      "outputs": [
        {
          "output_type": "stream",
          "name": "stdout",
          "text": [
            "[[1 2 4 5]\n",
            " [3 4 6 7]\n",
            " [9 8 3 3]]\n"
          ]
        }
      ]
    },
    {
      "cell_type": "code",
      "source": [
        "# concatenate rows\n",
        "AB_concat = tf.concat(values=[A,B],axis=0)\n",
        "tf.print(AB_concat)"
      ],
      "metadata": {
        "colab": {
          "base_uri": "https://localhost:8080/"
        },
        "id": "_mgqh3ZmAQha",
        "outputId": "b4aff787-66e0-4767-edfb-9cdc113a163c"
      },
      "execution_count": null,
      "outputs": [
        {
          "output_type": "stream",
          "name": "stdout",
          "text": [
            "[[1 2]\n",
            " [3 4]\n",
            " [9 8]\n",
            " [4 5]\n",
            " [6 7]\n",
            " [3 3]]\n"
          ]
        }
      ]
    },
    {
      "cell_type": "code",
      "source": [
        "# making a tensor filled with zeroes, shape = [rows, column]\n",
        "zeroes = tf.zeros(shape=[2,2])\n",
        "tf.print(zeroes)"
      ],
      "metadata": {
        "colab": {
          "base_uri": "https://localhost:8080/"
        },
        "id": "DdgHxmH1AUhw",
        "outputId": "0beb17ba-282a-4e97-b8ac-4a56a5bb19d5"
      },
      "execution_count": null,
      "outputs": [
        {
          "output_type": "stream",
          "name": "stdout",
          "text": [
            "[[0 0]\n",
            " [0 0]]\n"
          ]
        }
      ]
    },
    {
      "cell_type": "code",
      "source": [
        "# making a tensor filled with ones with data type of float32\n",
        "ones = tf.ones(shape=[2,2],dtype=tf.float32)\n",
        "tf.print(ones)"
      ],
      "metadata": {
        "colab": {
          "base_uri": "https://localhost:8080/"
        },
        "id": "amsKvzY4A-2J",
        "outputId": "ca03f5aa-d350-47b1-cbc4-b2ce481c46b4"
      },
      "execution_count": null,
      "outputs": [
        {
          "output_type": "stream",
          "name": "stdout",
          "text": [
            "[[1 1]\n",
            " [1 1]]\n"
          ]
        }
      ]
    },
    {
      "cell_type": "markdown",
      "source": [
        "# Reshape data by using tf.reshape"
      ],
      "metadata": {
        "id": "MF0zmnV1BMLA"
      }
    },
    {
      "cell_type": "code",
      "source": [
        "# making a 4x3 tensor for rehsaping\n",
        "tensor1 = tf.constant([[1,2,3],\n",
        "                      [4,5,6],\n",
        "                      [7,8,9],\n",
        "                      [10,11,12]])"
      ],
      "metadata": {
        "id": "Fu3ryS78Bbri"
      },
      "execution_count": null,
      "outputs": []
    },
    {
      "cell_type": "code",
      "source": [
        "# Reshaping the tensor into the shape of : shape = [rows, columns]\n",
        "tensor_reshape = tf.reshape(tensor1,shape=(2,6))\n",
        "tf.print(tensor_reshape)\n"
      ],
      "metadata": {
        "colab": {
          "base_uri": "https://localhost:8080/"
        },
        "id": "xCM_gE45Brcx",
        "outputId": "ea943690-b2ef-4405-ddd2-b41ccc890208"
      },
      "execution_count": null,
      "outputs": [
        {
          "output_type": "stream",
          "name": "stdout",
          "text": [
            "[[1 2 3 4 5 6]\n",
            " [7 8 9 10 11 12]]\n"
          ]
        }
      ]
    },
    {
      "cell_type": "markdown",
      "source": [
        "# Casting tensor to other data types by using tf.cast"
      ],
      "metadata": {
        "id": "lPsENXg6B-Ky"
      }
    },
    {
      "cell_type": "code",
      "source": [
        "# making tensor\n",
        "tensor2 = tf.constant([[1.3,2.5,3.6],\n",
        "                      [4.4,5.3,6.1],\n",
        "                      [7.2,8.7,9.2]], dtype=tf.float32)\n",
        "tensor_as_int = tf.cast(tensor2,dtype=tf.int32)\n",
        "tf.print(tensor_as_int)"
      ],
      "metadata": {
        "colab": {
          "base_uri": "https://localhost:8080/"
        },
        "id": "KFDJtVDaSq3D",
        "outputId": "0dad7c20-df17-4af3-9db5-5d672502a7a8"
      },
      "execution_count": null,
      "outputs": [
        {
          "output_type": "stream",
          "name": "stdout",
          "text": [
            "[[1 2 3]\n",
            " [4 5 6]\n",
            " [7 8 9]]\n"
          ]
        }
      ]
    },
    {
      "cell_type": "markdown",
      "source": [
        "# The linear algebra operations"
      ],
      "metadata": {
        "id": "VLbQiRmITQ5u"
      }
    },
    {
      "cell_type": "code",
      "source": [
        "# Transpose tensor for a matrix\n",
        "A = tf.constant([[1,2,5],\n",
        "                [3,4,7],\n",
        "                [5,6,2]])\n",
        "A_transpose = tf.transpose(A)\n",
        "tf.print(A_transpose)\n"
      ],
      "metadata": {
        "colab": {
          "base_uri": "https://localhost:8080/"
        },
        "id": "NyUoC5ipTwBz",
        "outputId": "a5df2e54-6088-44c7-d20f-8fb5e7d8ca1a"
      },
      "execution_count": null,
      "outputs": [
        {
          "output_type": "stream",
          "name": "stdout",
          "text": [
            "[[1 3 5]\n",
            " [2 4 6]\n",
            " [5 7 2]]\n"
          ]
        }
      ]
    },
    {
      "cell_type": "code",
      "source": [
        "# Matrix Multiplication\n",
        "A = tf.constant([[1,2],\n",
        "                [3,4],\n",
        "                [5,6]])\n",
        "B = tf.constant([[1,2,3],\n",
        "                [4,5,6]])\n",
        "AB = tf.matmul(A,B)\n",
        "tf.print(AB)"
      ],
      "metadata": {
        "colab": {
          "base_uri": "https://localhost:8080/"
        },
        "id": "QZemg8JkULU6",
        "outputId": "d3920b9c-1914-4471-8f4e-85c7317c2838"
      },
      "execution_count": null,
      "outputs": [
        {
          "output_type": "stream",
          "name": "stdout",
          "text": [
            "[[9 12 15]\n",
            " [19 26 33]\n",
            " [29 40 51]]\n"
          ]
        }
      ]
    },
    {
      "cell_type": "code",
      "source": [
        "# Element multiplication, shape of both the matrix should be equal\n",
        "A = tf.constant([[1,2],\n",
        "                [3,4],\n",
        "                [5,6]])\n",
        "B = tf.constant([[1,2],\n",
        "                [3,4],\n",
        "                [5,6]])\n",
        "AB = tf.multiply(A,B)\n",
        "tf.print(AB)\n",
        "Av = tf.multiply(A,A)\n",
        "tf.print(Av)"
      ],
      "metadata": {
        "colab": {
          "base_uri": "https://localhost:8080/"
        },
        "id": "EoaA9E8hWBfm",
        "outputId": "94255190-9feb-47a1-ce8c-56f75af8a474"
      },
      "execution_count": null,
      "outputs": [
        {
          "output_type": "stream",
          "name": "stdout",
          "text": [
            "[[1 4]\n",
            " [9 16]\n",
            " [25 36]]\n",
            "[[1 4]\n",
            " [9 16]\n",
            " [25 36]]\n"
          ]
        }
      ]
    },
    {
      "cell_type": "code",
      "source": [
        "# Identity matrix\n",
        "A = tf.constant([[1,2],\n",
        "                [3,4]])\n",
        "rows, columns = A.shape\n",
        "A_identity = tf.eye(num_rows=rows,num_columns=columns)\n",
        "tf.print(A_identity)"
      ],
      "metadata": {
        "colab": {
          "base_uri": "https://localhost:8080/"
        },
        "id": "L_rRsWweWSBe",
        "outputId": "096c76ec-bb73-4f94-83ea-f94422a71bf9"
      },
      "execution_count": null,
      "outputs": [
        {
          "output_type": "stream",
          "name": "stdout",
          "text": [
            "[[1 0]\n",
            " [0 1]]\n"
          ]
        }
      ]
    },
    {
      "cell_type": "markdown",
      "source": [
        "# Creating a variable in tensorflow"
      ],
      "metadata": {
        "id": "kPY2pZoYXfZ5"
      }
    },
    {
      "cell_type": "code",
      "source": [
        "# create a variable\n",
        "var1 = tf.Variable(tf.zeros([2,3,4]))\n",
        "tf.print(var1)"
      ],
      "metadata": {
        "colab": {
          "base_uri": "https://localhost:8080/"
        },
        "id": "wNiGZZLJYnAd",
        "outputId": "bbff7c5e-f677-40ae-f222-f4b8b7b97747"
      },
      "execution_count": null,
      "outputs": [
        {
          "output_type": "stream",
          "name": "stdout",
          "text": [
            "[[[0 0 0 0]\n",
            "  [0 0 0 0]\n",
            "  [0 0 0 0]]\n",
            "\n",
            " [[0 0 0 0]\n",
            "  [0 0 0 0]\n",
            "  [0 0 0 0]]]\n"
          ]
        }
      ]
    },
    {
      "cell_type": "code",
      "source": [
        "v = tf.Variable(0.0)\n",
        "w = v + 1\n",
        "# w is a tf.Tensor which is computed based on the value of v\n",
        "# Any time the variable is used in an expression it gets automatically converted to tf.Tensor representing it's value."
      ],
      "metadata": {
        "id": "Ii-ITKVxY4OJ"
      },
      "execution_count": null,
      "outputs": []
    },
    {
      "cell_type": "code",
      "source": [
        "tf.print(v)\n",
        "tf.print(w)"
      ],
      "metadata": {
        "colab": {
          "base_uri": "https://localhost:8080/"
        },
        "id": "_lkkwcjDZ0eZ",
        "outputId": "925000ef-c21a-4574-ad00-74edd86724a5"
      },
      "execution_count": null,
      "outputs": [
        {
          "output_type": "stream",
          "name": "stdout",
          "text": [
            "0\n",
            "1\n"
          ]
        }
      ]
    },
    {
      "cell_type": "code",
      "source": [
        "v = tf.Variable(0.0)\n",
        "v.assign(2).numpy()"
      ],
      "metadata": {
        "colab": {
          "base_uri": "https://localhost:8080/"
        },
        "id": "rPdMPJOMZ4GJ",
        "outputId": "aa2b5c6e-1020-44f3-dd2b-c7921ab4754d"
      },
      "execution_count": null,
      "outputs": [
        {
          "output_type": "execute_result",
          "data": {
            "text/plain": [
              "2.0"
            ]
          },
          "metadata": {},
          "execution_count": 46
        }
      ]
    },
    {
      "cell_type": "code",
      "source": [
        "tf.print(v)\n",
        "v.assign_add(1).numpy()"
      ],
      "metadata": {
        "colab": {
          "base_uri": "https://localhost:8080/"
        },
        "id": "QDG-f-SHaXRY",
        "outputId": "7186dca3-adf0-4bc5-f8c8-30c53da75ac7"
      },
      "execution_count": null,
      "outputs": [
        {
          "output_type": "stream",
          "name": "stdout",
          "text": [
            "2\n"
          ]
        },
        {
          "output_type": "execute_result",
          "data": {
            "text/plain": [
              "3.0"
            ]
          },
          "metadata": {},
          "execution_count": 47
        }
      ]
    },
    {
      "cell_type": "markdown",
      "source": [
        "# Operations in tensorflow"
      ],
      "metadata": {
        "id": "xr0gj5hgarDZ"
      }
    },
    {
      "cell_type": "code",
      "source": [
        "def add_op(a,b):\n",
        "    return a+b"
      ],
      "metadata": {
        "id": "R4eZVrM5a4GN"
      },
      "execution_count": null,
      "outputs": []
    },
    {
      "cell_type": "code",
      "source": [
        "print(add_op(11,10))"
      ],
      "metadata": {
        "colab": {
          "base_uri": "https://localhost:8080/"
        },
        "id": "LyX41-7HbBEi",
        "outputId": "23d7d13c-a965-479c-e652-667bcd568b96"
      },
      "execution_count": null,
      "outputs": [
        {
          "output_type": "stream",
          "name": "stdout",
          "text": [
            "21\n"
          ]
        }
      ]
    },
    {
      "cell_type": "code",
      "source": [
        "# Linear Model\n",
        "W = tf.Variable([11],tf.int32)\n",
        "b = tf.Variable([10],tf.int32)"
      ],
      "metadata": {
        "id": "yZxUL9IDbE_v"
      },
      "execution_count": null,
      "outputs": []
    },
    {
      "cell_type": "code",
      "source": [
        "def linear_model(x):\n",
        "    return W*x + b"
      ],
      "metadata": {
        "id": "A0XetZdNbYTD"
      },
      "execution_count": null,
      "outputs": []
    },
    {
      "cell_type": "code",
      "source": [
        "linear_model(x=[10,20,30,40]).numpy()"
      ],
      "metadata": {
        "colab": {
          "base_uri": "https://localhost:8080/"
        },
        "id": "E53k9zggbd1S",
        "outputId": "68b7c1c0-1303-4c25-c274-fd21a6fb9446"
      },
      "execution_count": null,
      "outputs": [
        {
          "output_type": "execute_result",
          "data": {
            "text/plain": [
              "array([120, 230, 340, 450], dtype=int32)"
            ]
          },
          "metadata": {},
          "execution_count": 60
        }
      ]
    },
    {
      "cell_type": "code",
      "source": [],
      "metadata": {
        "id": "GGghOsGbbjVJ"
      },
      "execution_count": null,
      "outputs": []
    }
  ]
}